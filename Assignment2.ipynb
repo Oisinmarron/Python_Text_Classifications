{
 "cells": [
  {
   "cell_type": "markdown",
   "metadata": {},
   "source": [
    "# COMP47670 Assignment 2:\n",
    "Name: Oisin Marron\n",
    "\n",
    "Student Number: 16401562"
   ]
  },
  {
   "cell_type": "code",
   "execution_count": 817,
   "metadata": {},
   "outputs": [
    {
     "name": "stderr",
     "output_type": "stream",
     "text": [
      "[nltk_data] Downloading package stopwords to\n",
      "[nltk_data]     /Users/oisinmarron/nltk_data...\n",
      "[nltk_data]   Package stopwords is already up-to-date!\n"
     ]
    }
   ],
   "source": [
    "import urllib.request\n",
    "import bs4\n",
    "import pandas as pd\n",
    "import numpy as np\n",
    "import nltk\n",
    "nltk.download('stopwords')\n",
    "from sklearn import linear_model\n",
    "from sklearn.naive_bayes import MultinomialNB\n",
    "from sklearn.model_selection import train_test_split\n",
    "from sklearn.feature_extraction.text import CountVectorizer\n",
    "from nltk.corpus import stopwords\n",
    "from nltk.stem.porter import PorterStemmer\n",
    "from sklearn.metrics import accuracy_score\n",
    "from sklearn.model_selection import cross_val_score"
   ]
  },
  {
   "cell_type": "markdown",
   "metadata": {},
   "source": [
    "## Task 1: Scrape review data\n",
    "\n",
    "<font color='red'>Create hyperlinks:</font>\n",
    "\n",
    "The following function is called to create the links where the html data is and it then parses this data and returns it. The category names are passed in as arguments and from these names the links are created.\n",
    "The data is requested from the links and if no errors are detected, the three category datas are parsed and returned."
   ]
  },
  {
   "cell_type": "code",
   "execution_count": 797,
   "metadata": {},
   "outputs": [],
   "source": [
    "# Function to create API html link for three categories\n",
    "def collect_data(categories):\n",
    "    links = []\n",
    "    for l in categories:\n",
    "        link = \"http://mlg.ucd.ie/modules/yalp/\" + l + \"_list.html\"\n",
    "        # Calls write_data function to retrieve data\n",
    "        response = urllib.request.urlopen(link)\n",
    "        html = response.read().decode()\n",
    "    \n",
    "        # Returns error message if data not received efficiently\n",
    "        if (response.code != 200):\n",
    "            print(\"Error retrieving data on\")\n",
    "           \n",
    "        # Collects the html text \n",
    "        parser = bs4.BeautifulSoup(html, \"html.parser\")\n",
    "    \n",
    "        links.append(parser)\n",
    "    return links"
   ]
  },
  {
   "cell_type": "markdown",
   "metadata": {},
   "source": [
    "\n",
    "\n",
    "<font color='red'>Create Datasets:</font>\n",
    "\n",
    "The following two functions are used to collect and sort the required data from each review, i.e. collect the review text and class label rating.\n",
    "The argument of the separate_data() function contains the html data from the chosen category homepage. Here, the links for each individual business that are reviewed are available. This links are gathered and stored in the 'businesses' list and are then accessed to gather the review text and ratings for each review of each business.\n",
    "\n",
    "The html for each business in each category is then gathered. By finding the necessary html tags, the function can then collect the review text and numbered ratings. The ratings are changed to the corresponding class label depending on the star value.\n",
    "\n",
    "The create_dataframe() function pulls all the data together and stores it in a panda dataframe, which is returned by the separate_data() function."
   ]
  },
  {
   "cell_type": "code",
   "execution_count": 798,
   "metadata": {},
   "outputs": [],
   "source": [
    "# Function to separate review text and rating values from other html text\n",
    "def separate_data(link):\n",
    "\n",
    "    businesses = [] # Used to store each business' link add on\n",
    "\n",
    "    # Finds each business' link add on\n",
    "    for reviews in link.find_all(\"h5\"):\n",
    "        for revLink in reviews.find_all(\"a\"):\n",
    "            rev = str(revLink) # Change text to string type\n",
    "            rev = rev.split('\"') \n",
    "            businesses.append(rev[1])\n",
    "        \n",
    "    businessReviews = []\n",
    "    businessRatings = []\n",
    "    allReviews = []\n",
    "\n",
    "    # Pulls out review text and ratings from each review, and stores in a list\n",
    "    for business in businesses:\n",
    "    \n",
    "        # Opens business review page and stores its html data\n",
    "        businessLink = \"http://mlg.ucd.ie/modules/yalp/\" + business\n",
    "        businessRev = urllib.request.urlopen(businessLink)\n",
    "        reviews = businessRev.read().decode()\n",
    "            \n",
    "        reviewParser = bs4.BeautifulSoup(reviews, \"html.parser\")\n",
    "        \n",
    "        # Returns error message if data not received efficiently\n",
    "        if (response.code != 200):\n",
    "            print(\"Error retrieving data on\")\n",
    "            \n",
    "        # Finds all review ratings and records them in their corresponding class label form\n",
    "        for individRating in reviewParser.find_all(\"p\", attrs={'class':'rating'}):\n",
    "            rating = str(individRating)\n",
    "            rating = rating.split('\"')\n",
    "            \n",
    "            if (rating[3][0] == \"4\") or (rating[3][0] == \"5\"):\n",
    "                classLabel = \"Positive\"\n",
    "            else:\n",
    "                classLabel = \"Negative\"  \n",
    "            businessRatings.append(classLabel)\n",
    "        \n",
    "        # Finds and stores all review text and removes unwanted symbols and text\n",
    "        for individReview in reviewParser.find_all(\"p\", attrs={'class':'review-text'}):\n",
    "            reviewText = str(individReview)\n",
    "            reviewText = reviewText.split('\"')\n",
    "            reviewText = reviewText[2]\n",
    "            reviewText = reviewText.replace('</p>', '')\n",
    "            reviewText = reviewText.replace('>', '')\n",
    "          \n",
    "            businessReviews.append(reviewText)\n",
    "        \n",
    "    allReviews = create_dataframe(businessReviews, businessRatings)\n",
    "    return allReviews\n",
    "\n",
    "def create_dataframe(reviews, ratings):\n",
    "    reviewList = pd.DataFrame(list(zip(ratings, reviews)), columns =[\"Ratings\", \"Reviews\"])\n",
    "    return reviewList"
   ]
  },
  {
   "cell_type": "code",
   "execution_count": 799,
   "metadata": {},
   "outputs": [],
   "source": [
    "categories = [\"automotive\", \"fashion\", \"hotels\"] # My three chosen categories\n",
    "\n",
    "# Calling of functions to acquire datasets\n",
    "links = collect_data(categories) \n",
    "\n",
    "category1 = separate_data(links[0])\n",
    "category2 = separate_data(links[1])\n",
    "category3 = separate_data(links[2])"
   ]
  },
  {
   "cell_type": "code",
   "execution_count": 800,
   "metadata": {},
   "outputs": [
    {
     "name": "stdout",
     "output_type": "stream",
     "text": [
      "    Ratings                                            Reviews\n",
      "0  Negative  The man that was working tonight (8-12-17) was...\n",
      "1  Negative  Chris is a very rude person. Gave me an attitu...\n",
      "2  Positive  One of my favorite gas station to stop at. The...\n",
      "3  Negative  Oh thank Heaven for Seven Eleven! I don't know...\n",
      "4  Positive  Five stars because of the guy who works weekda...\n",
      "    Ratings                                            Reviews\n",
      "0  Positive  Looking for the best tactical supplies? Look n...\n",
      "1  Negative  Stood in line like an idiot for 5 minutes to p...\n",
      "2  Positive  Another great store with quality Equipment. Th...\n",
      "3  Positive  The Problem with this store is not that they h...\n",
      "4  Positive  Great place! We went in at almost closing time...\n",
      "    Ratings                                            Reviews\n",
      "0  Positive  Melissa took us on a tour of Asia in the space...\n",
      "1  Positive  With a group of seven of us visiting Montreal ...\n",
      "2  Positive  Melissa is a gem! My fiancé found her tour on ...\n",
      "3  Positive  A perfect day in Montreal! Melissa outfitted u...\n",
      "4  Positive  I had a really great food truck tour with Meli...\n"
     ]
    }
   ],
   "source": [
    "print (category1[0:5])\n",
    "print (category2[0:5])\n",
    "print (category3[0:5])"
   ]
  },
  {
   "cell_type": "markdown",
   "metadata": {},
   "source": [
    "## Task 2: Classification Models Creation\n",
    "\n",
    "### Part a: Apply Preprocessing Steps:\n",
    "\n",
    "<font color='red'>Remove Symbols and Numbers:</font>\n",
    "\n",
    "Firstly, all numbers and symbols are removed from the review texts. After scanning portions of the data, I found a lot of the numbers written are used to describe the timestamps of events that occured, good or bad. \n",
    "Therefore, they would not play a beneficial role by being part of the trained data, so they are best to be removed."
   ]
  },
  {
   "cell_type": "code",
   "execution_count": 801,
   "metadata": {},
   "outputs": [],
   "source": [
    "# Replaces each number or symbol with a blank space\n",
    "category1[\"Reviews\"] = category1[\"Reviews\"].str.replace('\\d+', '')\n",
    "category2[\"Reviews\"] = category2[\"Reviews\"].str.replace('\\d+', '')\n",
    "category3[\"Reviews\"] = category3[\"Reviews\"].str.replace('\\d+', '')"
   ]
  },
  {
   "cell_type": "markdown",
   "metadata": {},
   "source": [
    "<font color='red'>Case Conversion, Filtering and Stemming:</font>\n",
    "\n",
    "Utilising CountVectorizer, the preprocess() function is used to tokenise the argument, convert all letters to lowercase, remove punctuation, remove stop words from the review text, filter short words, filter words rarely used and stem the words in the data.\n",
    "\n",
    "The preprocess() function calls the stem_review() function which returns a custom analyser that stems the words.\n",
    "\n",
    "The review text is fitted according to these specifications and scaled using the .fit_transform() method.\n",
    "\n",
    "The data is then returned as a panda dataframe."
   ]
  },
  {
   "cell_type": "code",
   "execution_count": 802,
   "metadata": {},
   "outputs": [],
   "source": [
    "ignore_words = set(stopwords.words(\"english\")) # Assign downloaded stopwords to variable\n",
    "\n",
    "stemmer = PorterStemmer() # Assigns variable to a stemming method\n",
    "analyzer = CountVectorizer().build_analyzer() # Assigns variable to a custom analyser builder"
   ]
  },
  {
   "cell_type": "code",
   "execution_count": 803,
   "metadata": {},
   "outputs": [],
   "source": [
    "# Function to stem the words of its argument\n",
    "def stem_review(reviews): \n",
    "    return (stemmer.stem(word) for word in analyzer(reviews))\n",
    "\n",
    "# Function that preprocesses the review data, returning it in data frame form\n",
    "def preprocess(reviews):\n",
    "    vectorizer = CountVectorizer(stop_words=ignore_words, min_df = 10, analyzer=stem_review, token_pattern=r'\\b[^\\d\\W]+\\b')\n",
    "    X = vectorizer.fit_transform(reviews) # Fits the review into vectorizer's specifications\n",
    "    df = pd.DataFrame(X.toarray(), columns=vectorizer.get_feature_names())\n",
    "    return df"
   ]
  },
  {
   "cell_type": "code",
   "execution_count": 804,
   "metadata": {},
   "outputs": [],
   "source": [
    "# Preprocessed data of each category\n",
    "reviews1 = preprocess(category1[\"Reviews\"])\n",
    "reviews2 = preprocess(category2[\"Reviews\"])\n",
    "reviews3 = preprocess(category3[\"Reviews\"])"
   ]
  },
  {
   "cell_type": "code",
   "execution_count": 805,
   "metadata": {},
   "outputs": [
    {
     "data": {
      "text/html": [
       "<div>\n",
       "<style scoped>\n",
       "    .dataframe tbody tr th:only-of-type {\n",
       "        vertical-align: middle;\n",
       "    }\n",
       "\n",
       "    .dataframe tbody tr th {\n",
       "        vertical-align: top;\n",
       "    }\n",
       "\n",
       "    .dataframe thead th {\n",
       "        text-align: right;\n",
       "    }\n",
       "</style>\n",
       "<table border=\"1\" class=\"dataframe\">\n",
       "  <thead>\n",
       "    <tr style=\"text-align: right;\">\n",
       "      <th></th>\n",
       "      <th>aaa</th>\n",
       "      <th>abl</th>\n",
       "      <th>about</th>\n",
       "      <th>abov</th>\n",
       "      <th>absolut</th>\n",
       "      <th>ac</th>\n",
       "      <th>accept</th>\n",
       "      <th>accid</th>\n",
       "      <th>accommod</th>\n",
       "      <th>accord</th>\n",
       "      <th>...</th>\n",
       "      <th>yelp</th>\n",
       "      <th>yesterday</th>\n",
       "      <th>yet</th>\n",
       "      <th>you</th>\n",
       "      <th>young</th>\n",
       "      <th>your</th>\n",
       "      <th>yourself</th>\n",
       "      <th>yr</th>\n",
       "      <th>zero</th>\n",
       "      <th>zone</th>\n",
       "    </tr>\n",
       "  </thead>\n",
       "  <tbody>\n",
       "    <tr>\n",
       "      <td>0</td>\n",
       "      <td>0</td>\n",
       "      <td>0</td>\n",
       "      <td>0</td>\n",
       "      <td>0</td>\n",
       "      <td>0</td>\n",
       "      <td>0</td>\n",
       "      <td>0</td>\n",
       "      <td>0</td>\n",
       "      <td>0</td>\n",
       "      <td>0</td>\n",
       "      <td>...</td>\n",
       "      <td>0</td>\n",
       "      <td>0</td>\n",
       "      <td>0</td>\n",
       "      <td>0</td>\n",
       "      <td>0</td>\n",
       "      <td>0</td>\n",
       "      <td>0</td>\n",
       "      <td>0</td>\n",
       "      <td>0</td>\n",
       "      <td>0</td>\n",
       "    </tr>\n",
       "    <tr>\n",
       "      <td>1</td>\n",
       "      <td>0</td>\n",
       "      <td>0</td>\n",
       "      <td>1</td>\n",
       "      <td>0</td>\n",
       "      <td>0</td>\n",
       "      <td>0</td>\n",
       "      <td>0</td>\n",
       "      <td>0</td>\n",
       "      <td>0</td>\n",
       "      <td>0</td>\n",
       "      <td>...</td>\n",
       "      <td>0</td>\n",
       "      <td>0</td>\n",
       "      <td>0</td>\n",
       "      <td>0</td>\n",
       "      <td>0</td>\n",
       "      <td>0</td>\n",
       "      <td>0</td>\n",
       "      <td>0</td>\n",
       "      <td>0</td>\n",
       "      <td>0</td>\n",
       "    </tr>\n",
       "    <tr>\n",
       "      <td>2</td>\n",
       "      <td>0</td>\n",
       "      <td>0</td>\n",
       "      <td>1</td>\n",
       "      <td>0</td>\n",
       "      <td>0</td>\n",
       "      <td>0</td>\n",
       "      <td>0</td>\n",
       "      <td>0</td>\n",
       "      <td>0</td>\n",
       "      <td>0</td>\n",
       "      <td>...</td>\n",
       "      <td>0</td>\n",
       "      <td>0</td>\n",
       "      <td>0</td>\n",
       "      <td>0</td>\n",
       "      <td>0</td>\n",
       "      <td>0</td>\n",
       "      <td>0</td>\n",
       "      <td>0</td>\n",
       "      <td>0</td>\n",
       "      <td>0</td>\n",
       "    </tr>\n",
       "    <tr>\n",
       "      <td>3</td>\n",
       "      <td>0</td>\n",
       "      <td>0</td>\n",
       "      <td>1</td>\n",
       "      <td>1</td>\n",
       "      <td>0</td>\n",
       "      <td>0</td>\n",
       "      <td>0</td>\n",
       "      <td>0</td>\n",
       "      <td>0</td>\n",
       "      <td>0</td>\n",
       "      <td>...</td>\n",
       "      <td>0</td>\n",
       "      <td>0</td>\n",
       "      <td>0</td>\n",
       "      <td>1</td>\n",
       "      <td>0</td>\n",
       "      <td>0</td>\n",
       "      <td>0</td>\n",
       "      <td>0</td>\n",
       "      <td>0</td>\n",
       "      <td>0</td>\n",
       "    </tr>\n",
       "    <tr>\n",
       "      <td>4</td>\n",
       "      <td>0</td>\n",
       "      <td>0</td>\n",
       "      <td>0</td>\n",
       "      <td>0</td>\n",
       "      <td>0</td>\n",
       "      <td>0</td>\n",
       "      <td>0</td>\n",
       "      <td>0</td>\n",
       "      <td>0</td>\n",
       "      <td>0</td>\n",
       "      <td>...</td>\n",
       "      <td>0</td>\n",
       "      <td>0</td>\n",
       "      <td>0</td>\n",
       "      <td>0</td>\n",
       "      <td>0</td>\n",
       "      <td>0</td>\n",
       "      <td>0</td>\n",
       "      <td>0</td>\n",
       "      <td>0</td>\n",
       "      <td>0</td>\n",
       "    </tr>\n",
       "  </tbody>\n",
       "</table>\n",
       "<p>5 rows × 1336 columns</p>\n",
       "</div>"
      ],
      "text/plain": [
       "   aaa  abl  about  abov  absolut  ac  accept  accid  accommod  accord  ...  \\\n",
       "0    0    0      0     0        0   0       0      0         0       0  ...   \n",
       "1    0    0      1     0        0   0       0      0         0       0  ...   \n",
       "2    0    0      1     0        0   0       0      0         0       0  ...   \n",
       "3    0    0      1     1        0   0       0      0         0       0  ...   \n",
       "4    0    0      0     0        0   0       0      0         0       0  ...   \n",
       "\n",
       "   yelp  yesterday  yet  you  young  your  yourself  yr  zero  zone  \n",
       "0     0          0    0    0      0     0         0   0     0     0  \n",
       "1     0          0    0    0      0     0         0   0     0     0  \n",
       "2     0          0    0    0      0     0         0   0     0     0  \n",
       "3     0          0    0    1      0     0         0   0     0     0  \n",
       "4     0          0    0    0      0     0         0   0     0     0  \n",
       "\n",
       "[5 rows x 1336 columns]"
      ]
     },
     "execution_count": 805,
     "metadata": {},
     "output_type": "execute_result"
    }
   ],
   "source": [
    "reviews1[0:5]"
   ]
  },
  {
   "cell_type": "markdown",
   "metadata": {},
   "source": [
    "<font color='red'>Prepare Ratings Array:</font>\n",
    "\n",
    "The test_Ratings() function below structures the class label rating data so it can be easily used during the building of the classification model."
   ]
  },
  {
   "cell_type": "code",
   "execution_count": 806,
   "metadata": {},
   "outputs": [],
   "source": [
    "# Function that appropriately shapes and structures the ratings datasets\n",
    "def test_Ratings(ratings):\n",
    "    ratingArray = np.asarray(ratings) \n",
    "    ratingArray = ratingArray.reshape(len(ratings), 1) # Shapes depending on size of dataset\n",
    "    return ratingArray"
   ]
  },
  {
   "cell_type": "code",
   "execution_count": 807,
   "metadata": {},
   "outputs": [],
   "source": [
    "ratings1 = test_Ratings(category1[\"Ratings\"])\n",
    "ratings2 = test_Ratings(category2[\"Ratings\"])\n",
    "ratings3 = test_Ratings(category3[\"Ratings\"])"
   ]
  },
  {
   "cell_type": "markdown",
   "metadata": {},
   "source": [
    "### Part b: Build Classification Model:\n",
    "\n",
    "The classification() function uses the prepared review's and rating's data from part (a) to build a classification model for the corresponding category.\n",
    "\n",
    "The function splits the arguments into training and test data. 20% of each of the review and rating's data will be separated and used to test how efficiently the other 80% have created a classification model.\n",
    "\n",
    "The Naive Bayes classifier is used. I tested both the SVM and Logistic Regression classifiers and found on average, the Naive Bayes returned more accurate prediction models.\n",
    "\n",
    "The train data is fit to the model. The test reviews are then used to predict the ratings of each review, followed by the actual test ratings being used to check the models accuracy for this test."
   ]
  },
  {
   "cell_type": "code",
   "execution_count": 808,
   "metadata": {},
   "outputs": [],
   "source": [
    "# Function that splits review data into train and test datasets, creates a model and tests it\n",
    "def classification(reviews, ratings):\n",
    "    X_train, X_test, Y_train, Y_test = train_test_split(reviews, ratings, test_size=0.2, random_state=1, stratify=ratings)\n",
    "    model = MultinomialNB() # Naive Bayes classifier \n",
    "    model.fit(X_train,Y_train.ravel()) # Creates model\n",
    "    predicted = model.predict(X_test) # Predicts rating test results using model\n",
    "    return(accuracy_score(Y_test, predicted)) # Compares predicted and test results for accuracy"
   ]
  },
  {
   "cell_type": "code",
   "execution_count": 809,
   "metadata": {},
   "outputs": [],
   "source": [
    "classification_accuracy = []\n",
    "classification_accuracy.append(classification(reviews1, ratings1)) # Category 1 classification model\n",
    "classification_accuracy.append(classification(reviews2, ratings2)) # Category 2 classification model\n",
    "classification_accuracy.append(classification(reviews3, ratings3)) # Category 3 classification model"
   ]
  },
  {
   "cell_type": "markdown",
   "metadata": {},
   "source": [
    "### Part c: Test Predictions of Classification Model:\n",
    "\n",
    "<font color='red'>Hold Out Strategy:</font>\n",
    "\n",
    "Firstly I tested the model using the hold out method as described above (80% of data is used for training the model and 20% is for testing).\n",
    "With each category being tested against its own data, the following accuracy table was created.\n",
    "Accuracy of each model being greater than 86% is a quite positive result."
   ]
  },
  {
   "cell_type": "code",
   "execution_count": 810,
   "metadata": {},
   "outputs": [
    {
     "name": "stdout",
     "output_type": "stream",
     "text": [
      "            Accuracy\n",
      "Category 1    0.9075\n",
      "Category 2    0.8750\n",
      "Category 3    0.8650\n"
     ]
    }
   ],
   "source": [
    "# Presented hold out strategy results from above\n",
    "classification = pd.DataFrame(classification_accuracy, columns=[\"Accuracy\"], index=[\"Category 1\", \"Category 2\", \"Category 3\"])\n",
    "print(classification)"
   ]
  },
  {
   "cell_type": "markdown",
   "metadata": {},
   "source": [
    "<font color='red'>Cross-Validation:</font>\n",
    "\n",
    "Secondly, I used the cross-validation strategy. This uses the hold out strategy five time for each model, testing each 20% block and training the corresponding 80%.\n",
    "\n",
    "The 5 accuracy score's of each category, as well as their mean accuracy, are displayed below.\n",
    "\n",
    "With each mean value being less than that of the hold out strategy accuracy's above, this shows how above there was a 'lucky' set of data tested and trained, which does not efficiently indicate the accuracy of the entire sets of data."
   ]
  },
  {
   "cell_type": "code",
   "execution_count": 811,
   "metadata": {},
   "outputs": [],
   "source": [
    "# Function that uses Naive Bayes to create a classification model using cross-validation\n",
    "def cross_validation(reviews, ratings):\n",
    "    model = MultinomialNB()\n",
    "    scores = cross_val_score(model, reviews, ratings.ravel(), cv=5, scoring='accuracy') # Cross Validates review and rating data\n",
    "    scores = np.append(scores, scores.mean()) # Adds mean of cross validation to the array\n",
    "    return(scores)"
   ]
  },
  {
   "cell_type": "code",
   "execution_count": 812,
   "metadata": {},
   "outputs": [
    {
     "name": "stdout",
     "output_type": "stream",
     "text": [
      "              Fold 1    Fold 2  Fold 3   Fold 4    Fold 5      Mean\n",
      "Category 1  0.902743  0.880299  0.8950  0.87218  0.909774  0.891999\n",
      "Category 2  0.817500  0.837500  0.8650  0.84500  0.835000  0.840000\n",
      "Category 3  0.825436  0.885000  0.8625  0.88000  0.837093  0.858006\n"
     ]
    }
   ],
   "source": [
    "cross_valid_list = []\n",
    "cross_valid_list.append(cross_validation(reviews1, ratings1)) # Category 1 Cross-validation\n",
    "cross_valid_list.append(cross_validation(reviews2, ratings2)) # Category 2 Cross-validation\n",
    "cross_valid_list.append(cross_validation(reviews3, ratings3)) # Category 3 Cross-validation\n",
    "cross_valid = pd.DataFrame(cross_valid_list, columns=[\"Fold 1\", \"Fold 2\", \"Fold 3\", \"Fold 4\", \"Fold 5\", \"Mean\"], index=[\"Category 1\", \"Category 2\", \"Category 3\"])\n",
    "print(cross_valid)"
   ]
  },
  {
   "cell_type": "markdown",
   "metadata": {},
   "source": [
    "## Task 3: Evaluation Against Other Categories\n",
    "\n",
    "<font color='red'>Prediction Model Testing:</font>\n",
    "\n",
    "The following test_model() function creates a prediction model using the first review and rating arguments. This time, 100% of their data are utilisied when creating the model.\n",
    "\n",
    "The second review argument is fitted to the model's data and is then used to predict what the second rating arguments should be.\n",
    "\n",
    "The accuracy score is tested by comparing this prediction array and to the actual ratings array.\n",
    "\n",
    "The function returns this accuracy value."
   ]
  },
  {
   "cell_type": "code",
   "execution_count": 813,
   "metadata": {},
   "outputs": [],
   "source": [
    "# Function to create a classification model for one category and predict the other two using this model\n",
    "def test_model(train_rev, train_rating, test_rev, test_rating):\n",
    "    vectorizer = CountVectorizer(stop_words=ignore_words, min_df = 10, analyzer=stem_review, token_pattern=r'\\b[^\\d\\W]+\\b')\n",
    "    reviews_train = vectorizer.fit_transform(train_rev) \n",
    "    reviews_test = vectorizer.transform(test_rev) # Fits test data to model form before prediction\n",
    "\n",
    "    model = MultinomialNB()\n",
    "    model.fit(reviews_train,train_rating.ravel()) # Creates model\n",
    "\n",
    "    predicted = model.predict(reviews_test) # Predicts test ratings\n",
    "    return(accuracy_score(test_rating, predicted)) # Compares predicted and test ratings"
   ]
  },
  {
   "cell_type": "markdown",
   "metadata": {},
   "source": [
    "### Part a: Category A Model:\n",
    "\n",
    "Creating a prediction model from the category A data and predicting the class label rating's of Category B and C, using their review data.\n",
    "\n",
    "The accuracy is very high and is quite similar to the hold out strategy accuaracy used above.\n",
    "Considering the hold out strategy uses test data which was gathered from the same place as the train data, this shows this model is very effective and has a wide range of words and phrases, making it suitable to predict most types of review data."
   ]
  },
  {
   "cell_type": "code",
   "execution_count": 814,
   "metadata": {},
   "outputs": [
    {
     "name": "stdout",
     "output_type": "stream",
     "text": [
      "                 Category A Model\n",
      "Category B Test            0.8515\n",
      "Category C Test            0.8710\n"
     ]
    }
   ],
   "source": [
    "# Creates model using category A and predicts category B and C using this model\n",
    "model_catA = []\n",
    "model_catA.append(test_model(category1[\"Reviews\"], ratings1, category2[\"Reviews\"], ratings2))\n",
    "model_catA.append(test_model(category1[\"Reviews\"], ratings1, category3[\"Reviews\"], ratings3))\n",
    "catA_exp = pd.DataFrame(model_catA, columns=[\"Category A Model\"], index=[\"Category B Test\", \"Category C Test\"])\n",
    "print(catA_exp)"
   ]
  },
  {
   "cell_type": "markdown",
   "metadata": {},
   "source": [
    "### Part b: Category B Model:\n",
    "\n",
    "Creating a prediction model from the category B data and predicting the class label rating's of Category A and C, using their review data.\n",
    "\n",
    "The accuracy is again quite high, however, the category A prediction is significantly less accurate than that of category C. I would assume this is due to category A having a much smaller set of data. \n",
    "\n",
    "This would mean category A's model would include a smaller range of words, with but with greater frequency. Hence, why the category A model is so accurate, there is a tighter group of words that indicate more clearly why and when each word is used, hinting at a more likely result. "
   ]
  },
  {
   "cell_type": "code",
   "execution_count": 815,
   "metadata": {},
   "outputs": [
    {
     "name": "stdout",
     "output_type": "stream",
     "text": [
      "                 Category B Model\n",
      "Category A Test            0.8095\n",
      "Category C Test            0.8610\n"
     ]
    }
   ],
   "source": [
    "# Creates model using category B and predicts category A and C using this model\n",
    "model_catB = []\n",
    "model_catB.append(test_model(category2[\"Reviews\"], ratings2, category1[\"Reviews\"], ratings1))\n",
    "model_catB.append(test_model(category2[\"Reviews\"], ratings2, category3[\"Reviews\"], ratings3))\n",
    "catB_exp = pd.DataFrame(model_catB, columns=[\"Category B Model\"], index=[\"Category A Test\", \"Category C Test\"])\n",
    "print(catB_exp)"
   ]
  },
  {
   "cell_type": "markdown",
   "metadata": {},
   "source": [
    "### Part c: Category C Model:\n",
    "\n",
    "Creating a prediction model from the category C data and predicting the class label rating's of Category A and B, using their review data.\n",
    "\n",
    "Again, the accuracy is quite high, however, it is lesser again for category A. \n",
    "This I would assume, like above, is because category C has a much wider, less compact range of words to category C.\n",
    "With each category having a similar number of reviews, category C has a much larger list of words, making it harder to pinpoint a result per word or hence, per review."
   ]
  },
  {
   "cell_type": "code",
   "execution_count": 816,
   "metadata": {},
   "outputs": [
    {
     "name": "stdout",
     "output_type": "stream",
     "text": [
      "                 Category C Model\n",
      "Category A Test            0.7795\n",
      "Category B Test            0.8510\n"
     ]
    }
   ],
   "source": [
    "# Creates model using category C and predicts category A and B using this model\n",
    "model_catC = []\n",
    "model_catC.append(test_model(category3[\"Reviews\"], ratings3, category1[\"Reviews\"], ratings1))\n",
    "model_catC.append(test_model(category3[\"Reviews\"], ratings3, category2[\"Reviews\"], ratings2))\n",
    "catC_exp = pd.DataFrame(model_catC, columns=[\"Category C Model\"], index=[\"Category A Test\", \"Category B Test\"])\n",
    "print(catC_exp)"
   ]
  }
 ],
 "metadata": {
  "kernelspec": {
   "display_name": "Python 3",
   "language": "python",
   "name": "python3"
  },
  "language_info": {
   "codemirror_mode": {
    "name": "ipython",
    "version": 3
   },
   "file_extension": ".py",
   "mimetype": "text/x-python",
   "name": "python",
   "nbconvert_exporter": "python",
   "pygments_lexer": "ipython3",
   "version": "3.7.4"
  }
 },
 "nbformat": 4,
 "nbformat_minor": 2
}
